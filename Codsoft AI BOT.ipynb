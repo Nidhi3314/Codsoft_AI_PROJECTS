{
 "cells": [
  {
   "cell_type": "code",
   "execution_count": null,
   "id": "5f3ef8f2",
   "metadata": {},
   "outputs": [
    {
     "name": "stdout",
     "output_type": "stream",
     "text": [
      "You: hello\n",
      "Bot: Hi! Human\n",
      "You: can you help me\n",
      "Bot: So , how can i help you??\n",
      "You: who is your favourite cricketer\n",
      "Bot: My favourite cricketer is Virat Kohli\n",
      "You: tell me good quote\n",
      "Bot: I'll tell you a simple quote,May your trials end in full bloom\n",
      "You: who created you\n",
      "Bot: I am a simple chat bot created by Nidhi\n",
      "You: thank you bye\n",
      "Bot: Ohhh, it was lovely meeting you, come again next time\n"
     ]
    }
   ],
   "source": [
    "oracle = [\n",
    "    {\"question\": \"hello\", \"answer\": \"Hi! Human\"},\n",
    "    {\"question\": \"help\", \"answer\": \"So , how can i help you??\"},\n",
    "    {\"question\": \"cricketer\", \"answer\": \"My favourite cricketer is Virat Kohli\"},\n",
    "    {\"question\": \"quote\", \"answer\": \"I'll tell you a simple quote,May your trials end in full bloom\"},\n",
    "    {\"question\": \"How \", \"answer\": \"I am fine, Thank you for asking\"},\n",
    "    {\"question\": \"created\", \"answer\": \"I am a simple chat bot created by Nidhi\"},\n",
    "    {\"question\": \"bye\", \"answer\": \"Ohhh, it was lovely meeting you, come again next time\"},\n",
    "]\n",
    "while True:\n",
    "    question = input(\"You: \")\n",
    "    got_answer = False\n",
    "    for el in oracle:\n",
    "        match = True\n",
    "        for word in el[\"question\"].split():\n",
    "            if word not in question.lower():\n",
    "                match = False\n",
    "        if match:\n",
    "            print(\"Bot:\", el[\"answer\"])\n",
    "            got_answer = True\n",
    "            break\n",
    "\n",
    "    if not got_answer:\n",
    "        print(\"Bot:\", \"Sorry, I didn't get it.\")"
   ]
  },
  {
   "cell_type": "code",
   "execution_count": null,
   "id": "114741f8",
   "metadata": {},
   "outputs": [],
   "source": []
  },
  {
   "cell_type": "code",
   "execution_count": null,
   "id": "4a3cb633",
   "metadata": {},
   "outputs": [],
   "source": []
  }
 ],
 "metadata": {
  "kernelspec": {
   "display_name": "Python 3 (ipykernel)",
   "language": "python",
   "name": "python3"
  },
  "language_info": {
   "codemirror_mode": {
    "name": "ipython",
    "version": 3
   },
   "file_extension": ".py",
   "mimetype": "text/x-python",
   "name": "python",
   "nbconvert_exporter": "python",
   "pygments_lexer": "ipython3",
   "version": "3.11.4"
  }
 },
 "nbformat": 4,
 "nbformat_minor": 5
}
